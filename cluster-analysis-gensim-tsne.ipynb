{
 "cells": [
  {
   "cell_type": "markdown",
   "metadata": {},
   "source": [
    "# Cluster Ask.Cyberinfrastructure Posts with Gensim"
   ]
  },
  {
   "cell_type": "markdown",
   "metadata": {},
   "source": [
    "We are going to use Gensim, a Python library for extraction of semantic topics from documents to cluster the extracted posts from AskCI. \n",
    "\n",
    "We will start with raw text from posts, generate embeddings for each using Doc2Vec, and then cluster the embeddings to find the semantic structure of the posts using TSNE. The algorithms we will be using are unsupervised, meaning that we don't need to provide any labels for training.\n",
    "\n",
    "See the documentation at: <a>https://radimrehurek.com/gensim/index.html</a>"
   ]
  },
  {
   "cell_type": "code",
   "execution_count": 15,
   "metadata": {},
   "outputs": [],
   "source": [
    "from gensim.models.doc2vec import TaggedDocument, Doc2Vec\n",
    "from sklearn.manifold import TSNE\n",
    "import seaborn\n",
    "import matplotlib.pylab as plt\n",
    "%matplotlib inline\n",
    "\n",
    "import json\n",
    "import os\n",
    "import re\n",
    "\n",
    "date_folder = \"2019-10-19\"\n",
    "board = \"ask.cyberinfrastructure.org\"\n",
    "categories = [\"q-a\", \"Area-for-open-ended-topics-of-interest\"]\n",
    "\n",
    "topics = []\n",
    "labels = []\n",
    "meta = {}\n",
    "\n",
    "def read_json(json_file):\n",
    "    with open(json_file, 'r') as filey:\n",
    "        content = json.loads(filey.read())\n",
    "    return content\n",
    "        \n",
    "# Read in list of topics, each line compiled posts from it\n",
    "for category in categories:\n",
    "    json_path = os.path.join(date_folder, \"%s-%s-posts-%s.json\" %(board, category, date_folder))\n",
    "    content = read_json(json_path)\n",
    "\n",
    "    for label, sentences in content.items():\n",
    "        topics.append(' '.join(sentences))\n",
    "        labels.append(label)\n",
    "        \n",
    "        \n",
    "# Add metadata for each topic\n",
    "for category in categories:\n",
    "\n",
    "    # Metadata includes tags, likes, etc.\n",
    "    json_path = os.path.join(date_folder, \"%s-%s-topics-%s.json\" %(board, category, date_folder))\n",
    "    content = read_json(json_path)\n",
    "\n",
    "    for details in content:\n",
    "        meta[str(details['id'])] = details"
   ]
  },
  {
   "cell_type": "code",
   "execution_count": 16,
   "metadata": {
    "scrolled": false
   },
   "outputs": [],
   "source": [
    "# remove html formatting replace newlines\n",
    "def cleanhtml(raw_html):\n",
    "    cleanr = re.compile('<.*?>')\n",
    "    cleantext = re.sub(cleanr, '', raw_html)\n",
    "    removelinks = re.compile('http[s]?://(?:[a-zA-Z]|[0-9]|[$-_@.&+]|[!*\\(\\),]|(?:%[0-9a-fA-F][0-9a-fA-F]))+')\n",
    "    cleantext = re.sub(removelinks, '', cleantext)\n",
    "    cleantext = cleantext.replace('\\n', ' ')\n",
    "    cleantext = re.sub('\\d+', '', cleantext) # random numbers\n",
    "    cleantext = re.sub(\"[^a-zA-Z0-9 -]\", ' ', cleantext)\n",
    "    return cleantext\n",
    "\n",
    "cleaned = [cleanhtml(document) for document in topics]"
   ]
  },
  {
   "cell_type": "code",
   "execution_count": 10,
   "metadata": {},
   "outputs": [],
   "source": [
    "# remove common words and tokenize\n",
    "stoplist = set('for a of the and to in'.split())\n",
    "texts = [[word for word in document.lower().split() if word not in stoplist]\n",
    "         for document in cleaned]"
   ]
  },
  {
   "cell_type": "code",
   "execution_count": 11,
   "metadata": {},
   "outputs": [],
   "source": [
    "# remove words that appear only once\n",
    "from collections import defaultdict\n",
    "frequency = defaultdict(int)\n",
    "for text in texts:\n",
    "    for token in text:\n",
    "        frequency[token] += 1\n",
    "\n",
    "texts = [[token for token in text if frequency[token] > 1]\n",
    "         for text in texts]"
   ]
  },
  {
   "cell_type": "code",
   "execution_count": 12,
   "metadata": {},
   "outputs": [
    {
     "name": "stdout",
     "output_type": "stream",
     "text": [
      "Doc2Vec(dm/m,d5,n5,w2,s0.001,t4)\n",
      "179\n"
     ]
    }
   ],
   "source": [
    "# Generate tagged documents\n",
    "docs = []\n",
    "for i, text in enumerate(texts):\n",
    "    docs.append(TaggedDocument(text, [i]))\n",
    "\n",
    "# build model, wv is mapping between words and embeddings\n",
    "model = Doc2Vec(docs, vector_size=5, window=2, min_count=1, workers=4)\n",
    "\n",
    "# document embeddings\n",
    "print(model)\n",
    "print(len(model.docvecs.vectors_docs))"
   ]
  },
  {
   "cell_type": "code",
   "execution_count": 13,
   "metadata": {},
   "outputs": [
    {
     "name": "stdout",
     "output_type": "stream",
     "text": [
      "(179, 2)\n"
     ]
    },
    {
     "data": {
      "text/plain": [
       "<matplotlib.axes._subplots.AxesSubplot at 0x7fbf8964a048>"
      ]
     },
     "execution_count": 13,
     "metadata": {},
     "output_type": "execute_result"
    },
    {
     "data": {
      "image/png": "[encoded data removed]",
      "text/plain": [
       "<matplotlib.figure.Figure at 0x7fbf8820fe80>"
      ]
     },
     "metadata": {
      "needs_background": "light"
     },
     "output_type": "display_data"
    }
   ],
   "source": [
    "# Try TSNE\n",
    "X_embedded = TSNE(n_components=2).fit_transform(model.docvecs.vectors_docs)\n",
    "print(X_embedded.shape)\n",
    "import pandas\n",
    "\n",
    "df = pandas.DataFrame(X_embedded)\n",
    "df.columns = ['dim1', 'dim2']\n",
    "\n",
    "plt.figure(figsize=(16,10))\n",
    "seaborn.scatterplot(\n",
    "    x='dim1',\n",
    "    y='dim2',\n",
    "    data=df,\n",
    "    palette=seaborn.color_palette(\"hls\", 10),\n",
    "    legend=\"full\",\n",
    "    alpha=0.3\n",
    ")"
   ]
  },
  {
   "cell_type": "code",
   "execution_count": 14,
   "metadata": {},
   "outputs": [
    {
     "name": "stdout",
     "output_type": "stream",
     "text": [
      "{\n",
      "    \"x\": 10.561829,\n",
      "    \"y\": -15.092673,\n",
      "    \"post_id\": \"303\",\n",
      "    \"posts_count\": 1,\n",
      "    \"tags\": [],\n",
      "    \"url\": \"https://ask.cyberinfrastructure.org/t/about-the-q-a-category/303/\",\n",
      "    \"views\": 125,\n",
      "    \"like_count\": 0,\n",
      "    \"title\": \"About the Q&A category\"\n",
      "}\n"
     ]
    }
   ],
   "source": [
    "# Notebooks are crap, save data to make a real plot in d3!\n",
    "# list of dicts with x,y, and link\n",
    "\n",
    "data = []\n",
    "for i, row in enumerate(X_embedded):\n",
    "    label = labels[i]\n",
    "    details = meta[label]\n",
    "    url = \"https://ask.cyberinfrastructure.org/t/%s/%s/\" %(details['slug'], label)\n",
    "    data.append({\"x\": round(row[0].astype(float), 6),  # from pandas\n",
    "                 \"y\": round(row[1].astype(float), 6),  # try to maintain original precision\n",
    "                 \"post_id\": label, \n",
    "                 \"posts_count\": details[\"posts_count\"], \n",
    "                 \"tags\": details[\"tags\"],\n",
    "                 \"url\": url,\n",
    "                 \"views\": details[\"views\"],\n",
    "                 \"like_count\": details[\"like_count\"],\n",
    "                 \"title\": details[\"title\"]})\n",
    "    \n",
    "print(json.dumps(data[0], indent=4))\n",
    "\n",
    "with open(\"askci-post-tsne-179x2.json\", 'w') as filey:\n",
    "    filey.writelines(json.dumps(data, indent=4))"
   ]
  },
  {
   "cell_type": "code",
   "execution_count": null,
   "metadata": {},
   "outputs": [],
   "source": []
  }
 ],
 "metadata": {
  "kernelspec": {
   "display_name": "Python 3",
   "language": "python",
   "name": "python3"
  },
  "language_info": {
   "codemirror_mode": {
    "name": "ipython",
    "version": 3
   },
   "file_extension": ".py",
   "mimetype": "text/x-python",
   "name": "python",
   "nbconvert_exporter": "python",
   "pygments_lexer": "ipython3",
   "version": "3.6.8"
  }
 },
 "nbformat": 4,
 "nbformat_minor": 1
}
