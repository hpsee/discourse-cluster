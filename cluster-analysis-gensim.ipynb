{
 "cells": [
  {
   "cell_type": "markdown",
   "metadata": {},
   "source": [
    "# Cluster Ask.Cyberinfrastructure Posts with Gensim"
   ]
  },
  {
   "cell_type": "markdown",
   "metadata": {},
   "source": [
    "We are going to use Gensim, a Python library for extraction of semantic topics from documents to cluster the extracted posts from AskCI. \n",
    "\n",
    "We will start with raw text from posts, generate embeddings for each using Doc2Vec, and then cluster the embeddings to find the semantic structure of the posts. What we'd like to see is that posts cluster nicely with tags, or perhaps we could look at what kind of posts are most well liked (based on votes). The algorithms we will be using are unsupervised, meaning that we don't need to provide any labels for training.\n",
    "\n",
    "See the documentation at: <a>https://radimrehurek.com/gensim/index.html</a>"
   ]
  },
  {
   "cell_type": "code",
   "execution_count": 1,
   "metadata": {},
   "outputs": [],
   "source": [
    "from gensim import corpora, models, similarities\n",
    "from gensim.models.doc2vec import TaggedDocument, Doc2Vec\n",
    "from sklearn import cluster, metrics\n",
    "from sklearn.manifold import TSNE\n",
    "import seaborn\n",
    "import matplotlib.pylab as plt\n",
    "%matplotlib inline\n",
    "\n",
    "import json\n",
    "import os\n",
    "import re\n",
    "\n",
    "date_folder = \"2019-10-19\"\n",
    "board = \"ask.cyberinfrastructure.org\"\n",
    "categories = [\"q-a\", \"Area-for-open-ended-topics-of-interest\"]\n",
    "\n",
    "topics = []\n",
    "labels = []\n",
    "\n",
    "def read_json(json_file):\n",
    "    with open(json_file, 'r') as filey:\n",
    "        content = json.loads(filey.read())\n",
    "    return content\n",
    "        \n",
    "# Read in list of topics, each line compiled posts from it\n",
    "for category in categories:\n",
    "    json_path = os.path.join(date_folder, \"%s-%s-posts-%s.json\" %(board, category, date_folder))\n",
    "    content = read_json(json_path)\n",
    "    for label, sentences in content.items():\n",
    "        topics.append(' '.join(sentences))\n",
    "        labels.append(label)"
   ]
  },
  {
   "cell_type": "code",
   "execution_count": 2,
   "metadata": {
    "scrolled": false
   },
   "outputs": [],
   "source": [
    "# remove html formatting replace newlines\n",
    "def cleanhtml(raw_html):\n",
    "    cleanr = re.compile('<.*?>')\n",
    "    cleantext = re.sub(cleanr, '', raw_html)\n",
    "    removelinks = re.compile('http[s]?://(?:[a-zA-Z]|[0-9]|[$-_@.&+]|[!*\\(\\),]|(?:%[0-9a-fA-F][0-9a-fA-F]))+')\n",
    "    cleantext = re.sub(removelinks, '', cleantext)\n",
    "    cleantext = cleantext.replace('\\n', ' ')\n",
    "    cleantext = re.sub(\"[^a-zA-Z0-9 -]\", ' ', cleantext)\n",
    "    return cleantext\n",
    "\n",
    "cleaned = [cleanhtml(document) for document in topics]"
   ]
  },
  {
   "cell_type": "code",
   "execution_count": 3,
   "metadata": {},
   "outputs": [],
   "source": [
    "# remove common words and tokenize\n",
    "stoplist = set('for a of the and to in'.split())\n",
    "texts = [[word for word in document.lower().split() if word not in stoplist]\n",
    "         for document in cleaned]"
   ]
  },
  {
   "cell_type": "code",
   "execution_count": 4,
   "metadata": {},
   "outputs": [],
   "source": [
    "# remove words that appear only once\n",
    "from collections import defaultdict\n",
    "frequency = defaultdict(int)\n",
    "for text in texts:\n",
    "    for token in text:\n",
    "        frequency[token] += 1\n",
    "\n",
    "texts = [[token for token in text if frequency[token] > 1]\n",
    "         for text in texts]"
   ]
  },
  {
   "cell_type": "code",
   "execution_count": 5,
   "metadata": {},
   "outputs": [
    {
     "name": "stdout",
     "output_type": "stream",
     "text": [
      "Doc2Vec(dm/m,d5,n5,w2,s0.001,t4)\n",
      "179\n"
     ]
    }
   ],
   "source": [
    "# Generate tagged documents\n",
    "docs = []\n",
    "for i, text in enumerate(texts):\n",
    "    docs.append(TaggedDocument(text, [i]))\n",
    "\n",
    "# build model, wv is mapping between words and embeddings\n",
    "model = Doc2Vec(docs, vector_size=5, window=2, min_count=1, workers=4)\n",
    "\n",
    "# document embeddings\n",
    "print(model)\n",
    "print(len(model.docvecs.vectors_docs))"
   ]
  },
  {
   "cell_type": "code",
   "execution_count": 8,
   "metadata": {},
   "outputs": [
    {
     "name": "stdout",
     "output_type": "stream",
     "text": [
      "(179, 2)\n"
     ]
    },
    {
     "data": {
      "text/plain": [
       "<matplotlib.axes._subplots.AxesSubplot at 0x7f86de09b320>"
      ]
     },
     "execution_count": 8,
     "metadata": {},
     "output_type": "execute_result"
    },
    {
     "data": {
      "image/png": "[encoded data removed]",
      "text/plain": [
       "<matplotlib.figure.Figure at 0x7f86df8f7b38>"
      ]
     },
     "metadata": {
      "needs_background": "light"
     },
     "output_type": "display_data"
    }
   ],
   "source": [
    "# Try TSNE\n",
    "X_embedded = TSNE(n_components=2).fit_transform(model.docvecs.vectors_docs)\n",
    "print(X_embedded.shape)\n",
    "import pandas\n",
    "\n",
    "df = pandas.DataFrame(X_embedded)\n",
    "df.columns = ['dim1', 'dim2']\n",
    "\n",
    "plt.figure(figsize=(16,10))\n",
    "seaborn.scatterplot(\n",
    "    x='dim1',\n",
    "    y='dim2',\n",
    "    data=df,\n",
    "    palette=seaborn.color_palette(\"hls\", 10),\n",
    "    legend=\"full\",\n",
    "    alpha=0.3\n",
    ")"
   ]
  },
  {
   "cell_type": "code",
   "execution_count": 16,
   "metadata": {},
   "outputs": [
    {
     "name": "stdout",
     "output_type": "stream",
     "text": [
      "[{'x': -12.818639, 'y': -12.50576, 'post_id': '303'}, {'x': 2.6621914, 'y': 2.1877372, 'post_id': '74'}, {'x': 11.372341, 'y': 6.5536199, 'post_id': '264'}, {'x': -0.50026566, 'y': 0.38764876, 'post_id': '215'}, {'x': -6.0202446, 'y': -5.074439, 'post_id': '552'}, {'x': -1.1196027, 'y': -0.66016328, 'post_id': '606'}, {'x': 5.6631298, 'y': 3.3453472, 'post_id': '921'}, {'x': 14.2593, 'y': 7.3455124, 'post_id': '854'}, {'x': 3.9722512, 'y': 2.6498168, 'post_id': '863'}, {'x': 11.836795, 'y': 7.4149494, 'post_id': '108'}, {'x': 10.169871, 'y': 6.8217397, 'post_id': '126'}, {'x': 8.2148514, 'y': 5.6446247, 'post_id': '242'}, {'x': 3.7286005, 'y': 3.8670108, 'post_id': '943'}, {'x': -12.830366, 'y': -11.371675, 'post_id': '73'}, {'x': -13.299064, 'y': -12.128494, 'post_id': '553'}, {'x': -9.1815119, 'y': -8.4472771, 'post_id': '92'}, {'x': -8.2820492, 'y': -7.41816, 'post_id': '30'}, {'x': 3.8761721, 'y': 3.29351, 'post_id': '238'}, {'x': 7.0841727, 'y': 4.9918022, 'post_id': '504'}, {'x': -9.1529741, 'y': -7.8179684, 'post_id': '225'}, {'x': 2.5224388, 'y': 1.5986348, 'post_id': '414'}, {'x': 3.2745318, 'y': 3.5663714, 'post_id': '214'}, {'x': -7.4313288, 'y': -6.0346379, 'post_id': '104'}, {'x': -3.255209, 'y': -1.632576, 'post_id': '263'}, {'x': 14.633656, 'y': 8.0532131, 'post_id': '431'}, {'x': 12.09732, 'y': 5.7704654, 'post_id': '67'}, {'x': -10.1806, 'y': -9.4371948, 'post_id': '456'}, {'x': 6.0895166, 'y': 4.9675398, 'post_id': '72'}, {'x': 4.8143163, 'y': 3.3722863, 'post_id': '106'}, {'x': -4.6102209, 'y': -2.6184351, 'post_id': '169'}, {'x': 0.46749601, 'y': 0.75686759, 'post_id': '168'}, {'x': -12.502452, 'y': -12.246378, 'post_id': '265'}, {'x': 2.6517041, 'y': 2.1141469, 'post_id': '448'}, {'x': -10.444588, 'y': -10.087638, 'post_id': '258'}, {'x': 0.7821607, 'y': 0.90191025, 'post_id': '367'}, {'x': 1.9474715, 'y': 1.9592668, 'post_id': '98'}, {'x': -11.645474, 'y': -11.066761, 'post_id': '75'}, {'x': -10.168137, 'y': -8.7980003, 'post_id': '912'}, {'x': -8.9287882, 'y': -7.6092901, 'post_id': '599'}, {'x': -9.049118, 'y': -8.5132179, 'post_id': '77'}, {'x': 4.5288277, 'y': 2.8363841, 'post_id': '35'}, {'x': -9.6788063, 'y': -8.1404486, 'post_id': '87'}, {'x': 6.9763408, 'y': 5.2250261, 'post_id': '38'}, {'x': -2.1532001, 'y': -0.87447232, 'post_id': '122'}, {'x': -8.8984251, 'y': -6.9366207, 'post_id': '158'}, {'x': 12.499648, 'y': 6.7657542, 'post_id': '903'}, {'x': 10.33567, 'y': 6.7712951, 'post_id': '236'}, {'x': -8.2222843, 'y': -8.0404091, 'post_id': '200'}, {'x': 7.9225674, 'y': 5.5731902, 'post_id': '223'}, {'x': -3.5264316, 'y': -1.8096592, 'post_id': '119'}, {'x': 8.6442232, 'y': 5.8370972, 'post_id': '266'}, {'x': 1.5972133, 'y': 1.330079, 'post_id': '858'}, {'x': -3.0500803, 'y': -3.2810981, 'post_id': '259'}, {'x': 5.0721173, 'y': 2.6712911, 'post_id': '662'}, {'x': -4.5604835, 'y': -3.4363506, 'post_id': '276'}, {'x': -5.0976467, 'y': -3.5806291, 'post_id': '125'}, {'x': 13.57765, 'y': 7.7204118, 'post_id': '201'}, {'x': 6.7268147, 'y': 3.8261263, 'post_id': '950'}, {'x': -7.8900433, 'y': -7.2792401, 'post_id': '814'}, {'x': -7.0142508, 'y': -5.750195, 'post_id': '149'}, {'x': -4.2233562, 'y': -2.3495169, 'post_id': '207'}, {'x': 8.7518873, 'y': 5.0399771, 'post_id': '838'}, {'x': -2.1070437, 'y': -1.6045798, 'post_id': '33'}, {'x': -4.0892792, 'y': -2.8260455, 'post_id': '205'}, {'x': 3.3543823, 'y': 2.0713389, 'post_id': '857'}, {'x': 12.297537, 'y': 6.6503725, 'post_id': '851'}, {'x': 5.6053982, 'y': 3.7909892, 'post_id': '1072'}, {'x': -2.6226766, 'y': -2.8314223, 'post_id': '209'}, {'x': 0.38584411, 'y': 0.34321916, 'post_id': '927'}, {'x': -9.6492395, 'y': -7.8694396, 'post_id': '871'}, {'x': -5.6604924, 'y': -4.1288686, 'post_id': '111'}, {'x': -10.828928, 'y': -9.1205378, 'post_id': '270'}, {'x': -11.295473, 'y': -10.358439, 'post_id': '846'}, {'x': -5.1395574, 'y': -4.3104234, 'post_id': '31'}, {'x': -13.254227, 'y': -12.052102, 'post_id': '36'}, {'x': 3.7992406, 'y': 3.32899, 'post_id': '132'}, {'x': 1.8744906, 'y': 2.2033761, 'post_id': '233'}, {'x': -4.6616802, 'y': -2.9161458, 'post_id': '39'}, {'x': -8.2800846, 'y': -6.7703123, 'post_id': '220'}, {'x': 8.4511414, 'y': 5.2950273, 'post_id': '37'}, {'x': 10.621861, 'y': 6.4549832, 'post_id': '107'}, {'x': -11.596797, 'y': -10.448679, 'post_id': '206'}, {'x': -8.8717146, 'y': -6.8591952, 'post_id': '159'}, {'x': -5.8530006, 'y': -4.638227, 'post_id': '26'}, {'x': 4.6663666, 'y': 3.3444159, 'post_id': '934'}, {'x': 12.922952, 'y': 7.6654353, 'post_id': '32'}, {'x': -3.9075811, 'y': -2.7486093, 'post_id': '112'}, {'x': 2.006007, 'y': 1.5120443, 'post_id': '113'}, {'x': 7.513298, 'y': 4.5897655, 'post_id': '279'}, {'x': -12.00189, 'y': -10.507388, 'post_id': '283'}, {'x': 5.9473433, 'y': 4.2621436, 'post_id': '150'}, {'x': -13.664164, 'y': -13.13423, 'post_id': '82'}, {'x': -12.48338, 'y': -11.650339, 'post_id': '1065'}, {'x': -8.786128, 'y': -8.2956686, 'post_id': '809'}, {'x': -1.6069299, 'y': -0.77303952, 'post_id': '222'}, {'x': -12.468184, 'y': -11.228043, 'post_id': '749'}, {'x': 5.706409, 'y': 2.8807628, 'post_id': '744'}, {'x': -9.9876595, 'y': -9.1776943, 'post_id': '79'}, {'x': 10.814823, 'y': 5.4165087, 'post_id': '644'}, {'x': -11.934658, 'y': -11.660632, 'post_id': '193'}, {'x': 9.4166212, 'y': 5.4192591, 'post_id': '597'}, {'x': 4.8299823, 'y': 2.6114442, 'post_id': '275'}, {'x': 5.8874555, 'y': 4.4728904, 'post_id': '325'}, {'x': 9.694005, 'y': 6.3345785, 'post_id': '171'}, {'x': 3.430156, 'y': 2.8142309, 'post_id': '513'}, {'x': 4.2358384, 'y': 3.9836624, 'post_id': '90'}, {'x': 11.127259, 'y': 6.3717875, 'post_id': '136'}, {'x': -1.7738252, 'y': -0.76234889, 'post_id': '116'}, {'x': -0.63377297, 'y': -0.38404396, 'post_id': '271'}, {'x': -8.3822956, 'y': -7.8042827, 'post_id': '110'}, {'x': -2.9192159, 'y': -2.8712738, 'post_id': '101'}, {'x': -4.1492362, 'y': -2.9027636, 'post_id': '232'}, {'x': -2.9600184, 'y': -2.1400526, 'post_id': '86'}, {'x': -6.1299295, 'y': -4.1622772, 'post_id': '269'}, {'x': 5.439033, 'y': 4.2709541, 'post_id': '510'}, {'x': -2.8962893, 'y': -1.9812407, 'post_id': '991'}, {'x': -13.547423, 'y': -12.564764, 'post_id': '170'}, {'x': 14.355699, 'y': 7.5170012, 'post_id': '1035'}, {'x': -11.906894, 'y': -11.60417, 'post_id': '971'}, {'x': -2.4065123, 'y': -2.3108654, 'post_id': '262'}, {'x': -9.9661217, 'y': -9.3483429, 'post_id': '261'}, {'x': -8.2481899, 'y': -6.8934636, 'post_id': '109'}, {'x': 5.207355, 'y': 4.0192909, 'post_id': '1063'}, {'x': -6.2551446, 'y': -5.0893288, 'post_id': '80'}, {'x': -13.499056, 'y': -12.934805, 'post_id': '198'}, {'x': -6.7754827, 'y': -5.5844674, 'post_id': '221'}, {'x': -1.1645988, 'y': -1.2288263, 'post_id': '40'}, {'x': -10.741898, 'y': -9.3205175, 'post_id': '78'}, {'x': -2.9905996, 'y': -2.290601, 'post_id': '280'}, {'x': -0.1553534, 'y': -0.14477633, 'post_id': '277'}, {'x': -10.915094, 'y': -9.3553171, 'post_id': '248'}, {'x': -13.839083, 'y': -13.124277, 'post_id': '268'}, {'x': -12.06573, 'y': -10.953113, 'post_id': '278'}, {'x': -13.870943, 'y': -13.087098, 'post_id': '210'}, {'x': -7.9948316, 'y': -7.012856, 'post_id': '1040'}, {'x': -11.103261, 'y': -10.623257, 'post_id': '797'}, {'x': 9.8714886, 'y': 5.3379579, 'post_id': '1081'}, {'x': 10.302917, 'y': 5.5911345, 'post_id': '1079'}, {'x': 5.9770374, 'y': 3.5102758, 'post_id': '1073'}, {'x': 8.9978294, 'y': 5.2580743, 'post_id': '1045'}, {'x': 14.009077, 'y': 7.270947, 'post_id': '1018'}, {'x': -10.9667, 'y': -10.302373, 'post_id': '1076'}, {'x': 12.484353, 'y': 7.4949689, 'post_id': '1064'}, {'x': -10.44579, 'y': -9.6245995, 'post_id': '953'}, {'x': 10.256678, 'y': 5.7230144, 'post_id': '533'}, {'x': 12.765498, 'y': 6.720171, 'post_id': '1023'}, {'x': 10.062943, 'y': 5.7348676, 'post_id': '961'}, {'x': -7.6149707, 'y': -6.4111066, 'post_id': '1021'}, {'x': 11.958179, 'y': 7.0172491, 'post_id': '975'}, {'x': -10.087966, 'y': -8.9141436, 'post_id': '115'}, {'x': 12.53616, 'y': 7.3766265, 'post_id': '932'}, {'x': 9.7968473, 'y': 6.2144294, 'post_id': '996'}, {'x': 14.724036, 'y': 6.8753252, 'post_id': '989'}, {'x': 9.2843046, 'y': 5.7186708, 'post_id': '114'}, {'x': 13.421696, 'y': 6.9064589, 'post_id': '792'}, {'x': -13.01744, 'y': -12.561109, 'post_id': '254'}, {'x': -4.8538756, 'y': -3.65646, 'post_id': '88'}, {'x': 0.79717666, 'y': 0.77692068, 'post_id': '920'}, {'x': 0.0015910706, 'y': 0.13055709, 'post_id': '105'}, {'x': -4.5496454, 'y': -3.9570422, 'post_id': '580'}, {'x': 12.609755, 'y': 7.1629553, 'post_id': '856'}, {'x': 4.2617574, 'y': 3.4127405, 'post_id': '821'}, {'x': 12.927566, 'y': 7.1041188, 'post_id': '443'}, {'x': 3.5513477, 'y': 3.2246535, 'post_id': '612'}, {'x': 2.4107487, 'y': 2.1531422, 'post_id': '676'}, {'x': 7.4242606, 'y': 4.8624578, 'post_id': '733'}, {'x': -3.7930479, 'y': -3.4323921, 'post_id': '89'}, {'x': 6.3709736, 'y': 4.5053301, 'post_id': '129'}, {'x': -2.040242, 'y': -1.8827574, 'post_id': '84'}, {'x': 12.040316, 'y': 7.1860356, 'post_id': '91'}, {'x': -3.6557283, 'y': -2.0533192, 'post_id': '441'}, {'x': -0.31446579, 'y': 0.50207227, 'post_id': '427'}, {'x': -3.5351641, 'y': -2.9237647, 'post_id': '394'}, {'x': 11.832571, 'y': 6.6896782, 'post_id': '368'}, {'x': -11.640413, 'y': -9.8604116, 'post_id': '197'}, {'x': -6.468524, 'y': -5.3420033, 'post_id': '245'}, {'x': -12.767093, 'y': -11.844915, 'post_id': '154'}, {'x': -12.315234, 'y': -10.975703, 'post_id': '99'}, {'x': -0.77407044, 'y': -0.29750574, 'post_id': '273'}]\n"
     ]
    },
    {
     "ename": "TypeError",
     "evalue": "Object of type 'float32' is not JSON serializable",
     "output_type": "error",
     "traceback": [
      "\u001b[0;31m---------------------------------------------------------------------------\u001b[0m",
      "\u001b[0;31mTypeError\u001b[0m                                 Traceback (most recent call last)",
      "\u001b[0;32m<ipython-input-16-803e9b17db64>\u001b[0m in \u001b[0;36m<module>\u001b[0;34m()\u001b[0m\n\u001b[1;32m     10\u001b[0m \u001b[0;34m\u001b[0m\u001b[0m\n\u001b[1;32m     11\u001b[0m \u001b[0;32mwith\u001b[0m \u001b[0mopen\u001b[0m\u001b[0;34m(\u001b[0m\u001b[0;34m\"askci-post-tsne-179x2.json\"\u001b[0m\u001b[0;34m,\u001b[0m \u001b[0;34m'w'\u001b[0m\u001b[0;34m)\u001b[0m \u001b[0;32mas\u001b[0m \u001b[0mfiley\u001b[0m\u001b[0;34m:\u001b[0m\u001b[0;34m\u001b[0m\u001b[0;34m\u001b[0m\u001b[0m\n\u001b[0;32m---> 12\u001b[0;31m     \u001b[0mfiley\u001b[0m\u001b[0;34m.\u001b[0m\u001b[0mwritelines\u001b[0m\u001b[0;34m(\u001b[0m\u001b[0mjson\u001b[0m\u001b[0;34m.\u001b[0m\u001b[0mdumps\u001b[0m\u001b[0;34m(\u001b[0m\u001b[0mdata\u001b[0m\u001b[0;34m)\u001b[0m\u001b[0;34m,\u001b[0m \u001b[0mindent\u001b[0m\u001b[0;34m=\u001b[0m\u001b[0;36m4\u001b[0m\u001b[0;34m)\u001b[0m\u001b[0;34m\u001b[0m\u001b[0;34m\u001b[0m\u001b[0m\n\u001b[0m",
      "\u001b[0;32m/usr/lib/python3.6/json/__init__.py\u001b[0m in \u001b[0;36mdumps\u001b[0;34m(obj, skipkeys, ensure_ascii, check_circular, allow_nan, cls, indent, separators, default, sort_keys, **kw)\u001b[0m\n\u001b[1;32m    229\u001b[0m         \u001b[0mcls\u001b[0m \u001b[0;32mis\u001b[0m \u001b[0;32mNone\u001b[0m \u001b[0;32mand\u001b[0m \u001b[0mindent\u001b[0m \u001b[0;32mis\u001b[0m \u001b[0;32mNone\u001b[0m \u001b[0;32mand\u001b[0m \u001b[0mseparators\u001b[0m \u001b[0;32mis\u001b[0m \u001b[0;32mNone\u001b[0m \u001b[0;32mand\u001b[0m\u001b[0;34m\u001b[0m\u001b[0;34m\u001b[0m\u001b[0m\n\u001b[1;32m    230\u001b[0m         default is None and not sort_keys and not kw):\n\u001b[0;32m--> 231\u001b[0;31m         \u001b[0;32mreturn\u001b[0m \u001b[0m_default_encoder\u001b[0m\u001b[0;34m.\u001b[0m\u001b[0mencode\u001b[0m\u001b[0;34m(\u001b[0m\u001b[0mobj\u001b[0m\u001b[0;34m)\u001b[0m\u001b[0;34m\u001b[0m\u001b[0;34m\u001b[0m\u001b[0m\n\u001b[0m\u001b[1;32m    232\u001b[0m     \u001b[0;32mif\u001b[0m \u001b[0mcls\u001b[0m \u001b[0;32mis\u001b[0m \u001b[0;32mNone\u001b[0m\u001b[0;34m:\u001b[0m\u001b[0;34m\u001b[0m\u001b[0;34m\u001b[0m\u001b[0m\n\u001b[1;32m    233\u001b[0m         \u001b[0mcls\u001b[0m \u001b[0;34m=\u001b[0m \u001b[0mJSONEncoder\u001b[0m\u001b[0;34m\u001b[0m\u001b[0;34m\u001b[0m\u001b[0m\n",
      "\u001b[0;32m/usr/lib/python3.6/json/encoder.py\u001b[0m in \u001b[0;36mencode\u001b[0;34m(self, o)\u001b[0m\n\u001b[1;32m    197\u001b[0m         \u001b[0;31m# exceptions aren't as detailed.  The list call should be roughly\u001b[0m\u001b[0;34m\u001b[0m\u001b[0;34m\u001b[0m\u001b[0;34m\u001b[0m\u001b[0m\n\u001b[1;32m    198\u001b[0m         \u001b[0;31m# equivalent to the PySequence_Fast that ''.join() would do.\u001b[0m\u001b[0;34m\u001b[0m\u001b[0;34m\u001b[0m\u001b[0;34m\u001b[0m\u001b[0m\n\u001b[0;32m--> 199\u001b[0;31m         \u001b[0mchunks\u001b[0m \u001b[0;34m=\u001b[0m \u001b[0mself\u001b[0m\u001b[0;34m.\u001b[0m\u001b[0miterencode\u001b[0m\u001b[0;34m(\u001b[0m\u001b[0mo\u001b[0m\u001b[0;34m,\u001b[0m \u001b[0m_one_shot\u001b[0m\u001b[0;34m=\u001b[0m\u001b[0;32mTrue\u001b[0m\u001b[0;34m)\u001b[0m\u001b[0;34m\u001b[0m\u001b[0;34m\u001b[0m\u001b[0m\n\u001b[0m\u001b[1;32m    200\u001b[0m         \u001b[0;32mif\u001b[0m \u001b[0;32mnot\u001b[0m \u001b[0misinstance\u001b[0m\u001b[0;34m(\u001b[0m\u001b[0mchunks\u001b[0m\u001b[0;34m,\u001b[0m \u001b[0;34m(\u001b[0m\u001b[0mlist\u001b[0m\u001b[0;34m,\u001b[0m \u001b[0mtuple\u001b[0m\u001b[0;34m)\u001b[0m\u001b[0;34m)\u001b[0m\u001b[0;34m:\u001b[0m\u001b[0;34m\u001b[0m\u001b[0;34m\u001b[0m\u001b[0m\n\u001b[1;32m    201\u001b[0m             \u001b[0mchunks\u001b[0m \u001b[0;34m=\u001b[0m \u001b[0mlist\u001b[0m\u001b[0;34m(\u001b[0m\u001b[0mchunks\u001b[0m\u001b[0;34m)\u001b[0m\u001b[0;34m\u001b[0m\u001b[0;34m\u001b[0m\u001b[0m\n",
      "\u001b[0;32m/usr/lib/python3.6/json/encoder.py\u001b[0m in \u001b[0;36miterencode\u001b[0;34m(self, o, _one_shot)\u001b[0m\n\u001b[1;32m    255\u001b[0m                 \u001b[0mself\u001b[0m\u001b[0;34m.\u001b[0m\u001b[0mkey_separator\u001b[0m\u001b[0;34m,\u001b[0m \u001b[0mself\u001b[0m\u001b[0;34m.\u001b[0m\u001b[0mitem_separator\u001b[0m\u001b[0;34m,\u001b[0m \u001b[0mself\u001b[0m\u001b[0;34m.\u001b[0m\u001b[0msort_keys\u001b[0m\u001b[0;34m,\u001b[0m\u001b[0;34m\u001b[0m\u001b[0;34m\u001b[0m\u001b[0m\n\u001b[1;32m    256\u001b[0m                 self.skipkeys, _one_shot)\n\u001b[0;32m--> 257\u001b[0;31m         \u001b[0;32mreturn\u001b[0m \u001b[0m_iterencode\u001b[0m\u001b[0;34m(\u001b[0m\u001b[0mo\u001b[0m\u001b[0;34m,\u001b[0m \u001b[0;36m0\u001b[0m\u001b[0;34m)\u001b[0m\u001b[0;34m\u001b[0m\u001b[0;34m\u001b[0m\u001b[0m\n\u001b[0m\u001b[1;32m    258\u001b[0m \u001b[0;34m\u001b[0m\u001b[0m\n\u001b[1;32m    259\u001b[0m def _make_iterencode(markers, _default, _encoder, _indent, _floatstr,\n",
      "\u001b[0;32m/usr/lib/python3.6/json/encoder.py\u001b[0m in \u001b[0;36mdefault\u001b[0;34m(self, o)\u001b[0m\n\u001b[1;32m    178\u001b[0m         \"\"\"\n\u001b[1;32m    179\u001b[0m         raise TypeError(\"Object of type '%s' is not JSON serializable\" %\n\u001b[0;32m--> 180\u001b[0;31m                         o.__class__.__name__)\n\u001b[0m\u001b[1;32m    181\u001b[0m \u001b[0;34m\u001b[0m\u001b[0m\n\u001b[1;32m    182\u001b[0m     \u001b[0;32mdef\u001b[0m \u001b[0mencode\u001b[0m\u001b[0;34m(\u001b[0m\u001b[0mself\u001b[0m\u001b[0;34m,\u001b[0m \u001b[0mo\u001b[0m\u001b[0;34m)\u001b[0m\u001b[0;34m:\u001b[0m\u001b[0;34m\u001b[0m\u001b[0;34m\u001b[0m\u001b[0m\n",
      "\u001b[0;31mTypeError\u001b[0m: Object of type 'float32' is not JSON serializable"
     ]
    }
   ],
   "source": [
    "# Notebooks are crap, save data to make a real plot in d3\n",
    "# list of dicts with x,y, and link\n",
    "\n",
    "data = []\n",
    "for i, row in enumerate(X_embedded):\n",
    "    label = labels[i]\n",
    "    data.append({\"x\": row[0], \"y\": row[1], \"post_id\": label})\n",
    "    \n",
    "print(data)\n",
    "\n",
    "with open(\"askci-post-tsne-179x2.json\", 'w') as filey:\n",
    "    filey.writelines(json.dumps(data), indent=4)"
   ]
  }
 ],
 "metadata": {
  "kernelspec": {
   "display_name": "Python 3",
   "language": "python",
   "name": "python3"
  },
  "language_info": {
   "codemirror_mode": {
    "name": "ipython",
    "version": 3
   },
   "file_extension": ".py",
   "mimetype": "text/x-python",
   "name": "python",
   "nbconvert_exporter": "python",
   "pygments_lexer": "ipython3",
   "version": "3.6.8"
  }
 },
 "nbformat": 4,
 "nbformat_minor": 1
}
